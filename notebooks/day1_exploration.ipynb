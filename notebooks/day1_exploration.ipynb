{
 "cells": [
  {
   "cell_type": "code",
   "execution_count": null,
   "id": "8e1b6459",
   "metadata": {
    "vscode": {
     "languageId": "plaintext"
    }
   },
   "outputs": [],
   "source": [
    "import sys\n",
    "sys.path.append('../src')\n",
    "from api_client import get_commercetools_client\n",
    "import pandas as pd\n",
    "\n",
    "# Get client\n",
    "client = get_commercetools_client()\n",
    "\n",
    "# Pull recent orders (last 7 days)\n",
    "from datetime import datetime, timedelta\n",
    "last_week = datetime.now() - timedelta(days=7)\n",
    "\n",
    "orders = client.orders().get(\n",
    "    where=f'createdAt > \"{last_week.isoformat()}\"',\n",
    "    limit=20\n",
    ").results\n",
    "\n",
    "print(f\"Found {len(orders)} orders from last 7 days\")\n",
    "\n",
    "# Convert to basic DataFrame for exploration\n",
    "order_data = []\n",
    "for order in orders:\n",
    "    order_data.append({\n",
    "        'id': order.id,\n",
    "        'createdAt': order.created_at,\n",
    "        'totalPrice': order.total_price.cent_amount / 100,  # Convert cents to currency\n",
    "        'currency': order.total_price.currency_code,\n",
    "        'orderState': order.order_state,\n",
    "        'lineItemCount': len(order.line_items)\n",
    "    })\n",
    "\n",
    "df = pd.DataFrame(order_data)\n",
    "print(df.head())"
   ]
  }
 ],
 "metadata": {
  "language_info": {
   "name": "python"
  }
 },
 "nbformat": 4,
 "nbformat_minor": 5
}
